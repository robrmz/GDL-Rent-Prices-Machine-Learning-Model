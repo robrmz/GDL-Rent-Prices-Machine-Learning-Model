{
 "cells": [
  {
   "cell_type": "code",
   "execution_count": 12,
   "id": "3ed1034a",
   "metadata": {},
   "outputs": [
    {
     "name": "stdout",
     "output_type": "stream",
     "text": [
      "                  location  price  bedrooms  bathrooms  garage  area\n",
      "0                  Zapopan  22300         3          4       2   180\n",
      "1            Real Vallarta  12500         2          2       2   100\n",
      "2         Puertas del Tule  25000         4          4       2   187\n",
      "3                  Zapopan  58000         3          4       4   700\n",
      "4        Heroes Nacionales   9000         3          2       2   110\n",
      "..                     ...    ...       ...        ...     ...   ...\n",
      "413   Villas del Centinela  10000         2          1       1    95\n",
      "414  Jardines de Guadalupe  38000         3          3       3   300\n",
      "415   Parque Metropolitano  19000         3          2       2   108\n",
      "416               Agrícola  10500         3          3       2   115\n",
      "417           Nuevo México  14500         3          2       2   119\n",
      "\n",
      "[418 rows x 6 columns]\n"
     ]
    }
   ],
   "source": [
    "#\n",
    "#This model uses data collected with my scraper \"git@github.com:robrmz/Rental-Prices-GDL.git\"\n",
    "#The purpose of this is for the use of a web app that can tell you how much you're expected to pay with certain features.\n",
    "#For example if you're looking for a 3 bed, 2 bath, 1 parking apartment, it can tell you a $ quantity based on this model. \n",
    "#\n",
    "\n",
    "#explore data with pandas\n",
    "import pandas as pd\n",
    "\n",
    "#importing data, initialize dataframe\n",
    "data = pd.read_csv(\"data_wrangled.csv\")\n",
    "data = data[[\"location\",\"price\",\"bedrooms\",\"bathrooms\",\"garage\",\"area\"]]\n",
    "print(data)\n",
    "\n",
    "#importing label encoder and creating a variable to transform \"location\" column\n",
    "from sklearn.preprocessing import LabelEncoder\n",
    "labelencoder = LabelEncoder()\n",
    "\n",
    "# Assigning numerical values and storing in another column\n",
    "data['location_fix'] = labelencoder.fit_transform(data['location'])\n",
    "\n",
    "#Assigning data before split\n",
    "X = data[[\"bedrooms\", \"bathrooms\", \"garage\", \"area\"]]\n",
    "y = data[[\"price\"]]\n",
    "\n"
   ]
  },
  {
   "cell_type": "code",
   "execution_count": 13,
   "id": "2d04a4e4",
   "metadata": {},
   "outputs": [],
   "source": [
    "from sklearn.model_selection import train_test_split\n",
    "#Split data\n",
    "X_train, X_valid, y_train, y_valid = train_test_split(X, y, train_size= 0.8, test_size=0.2, \n",
    "                                                      random_state=0)"
   ]
  },
  {
   "cell_type": "code",
   "execution_count": 15,
   "id": "8d2caa3d",
   "metadata": {},
   "outputs": [
    {
     "name": "stderr",
     "output_type": "stream",
     "text": [
      "C:\\Users\\Rob\\AppData\\Local\\Temp/ipykernel_22984/1993285298.py:22: DataConversionWarning: A column-vector y was passed when a 1d array was expected. Please change the shape of y to (n_samples,), for example using ravel().\n",
      "  i.fit(X_train,y_train)\n"
     ]
    },
    {
     "name": "stdout",
     "output_type": "stream",
     "text": [
      "RandomForestRegressor(n_estimators=1000, random_state=0): 13540.87896121794\n",
      "XGBRegressor(base_score=0.5, booster='gbtree', colsample_bylevel=1,\n",
      "             colsample_bynode=1, colsample_bytree=1, enable_categorical=False,\n",
      "             gamma=0, gpu_id=-1, importance_type=None,\n",
      "             interaction_constraints='', learning_rate=0.095, max_delta_step=0,\n",
      "             max_depth=3, min_child_weight=1, missing=nan,\n",
      "             monotone_constraints='()', n_estimators=301, n_jobs=12,\n",
      "             num_parallel_tree=1, predictor='auto', random_state=0, reg_alpha=0,\n",
      "             reg_lambda=1, scale_pos_weight=1, subsample=1, tree_method='exact',\n",
      "             validate_parameters=1, verbosity=None): 13442.722540758909\n",
      "LinearRegression(): 16477.24549947376\n",
      "SVR(): 26336.062977673362\n"
     ]
    },
    {
     "name": "stderr",
     "output_type": "stream",
     "text": [
      "C:\\Users\\Rob\\anaconda3\\envs\\DataScience\\lib\\site-packages\\sklearn\\utils\\validation.py:993: DataConversionWarning: A column-vector y was passed when a 1d array was expected. Please change the shape of y to (n_samples, ), for example using ravel().\n",
      "  y = column_or_1d(y, warn=True)\n"
     ]
    }
   ],
   "source": [
    "#metric we're targeting, RMSE\n",
    "from sklearn.metrics import mean_squared_error\n",
    "\n",
    "#importing regression methods\n",
    "from sklearn.ensemble import RandomForestRegressor\n",
    "import xgboost as xgb\n",
    "from sklearn.linear_model import LinearRegression\n",
    "from sklearn.svm import SVR\n",
    "\n",
    "def get_models():\n",
    "    #\n",
    "    rf = RandomForestRegressor(n_estimators=1000, random_state=0)\n",
    "    xgb_def = xgb.XGBRegressor(n_estimators=301, max_depth=3, learning_rate=0.095)\n",
    "    lr = LinearRegression()\n",
    "    svr_def = SVR()\n",
    "    \n",
    "    #\n",
    "    regressors = [rf, xgb_def, lr, svr_def]\n",
    "    \n",
    "    #iterating over each method\n",
    "    for i in regressors:\n",
    "        i.fit(X_train,y_train)\n",
    "        i_preds = i.predict(X_valid)\n",
    "        i_score = mean_squared_error(y_valid, i_preds, squared=False)\n",
    "        print(str(i) + \": \" + str(i_score))\n",
    "        \n",
    "get_models()\n",
    "        "
   ]
  },
  {
   "cell_type": "code",
   "execution_count": null,
   "id": "5d6777fb",
   "metadata": {},
   "outputs": [],
   "source": [
    "#According to the function's output, best model is XGBRegressor, though Random Forest it is pretty close. \n",
    "#We're using either, since after tweaking parameters, error difference is marginal. \n",
    "#Next step, train full model, turn it into a pickle, build web app. "
   ]
  }
 ],
 "metadata": {
  "kernelspec": {
   "display_name": "Python 3 (ipykernel)",
   "language": "python",
   "name": "python3"
  },
  "language_info": {
   "codemirror_mode": {
    "name": "ipython",
    "version": 3
   },
   "file_extension": ".py",
   "mimetype": "text/x-python",
   "name": "python",
   "nbconvert_exporter": "python",
   "pygments_lexer": "ipython3",
   "version": "3.9.7"
  }
 },
 "nbformat": 4,
 "nbformat_minor": 5
}
